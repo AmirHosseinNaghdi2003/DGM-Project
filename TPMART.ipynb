{
  "cells": [
    {
      "cell_type": "markdown",
      "metadata": {
        "id": "wMQA20zhLqFE"
      },
      "source": [
        "DGM"
      ]
    },
    {
      "cell_type": "code",
      "execution_count": 26,
      "metadata": {
        "id": "7zUoUeUqLqkt"
      },
      "outputs": [],
      "source": [
        "import os\n",
        "import yaml\n",
        "import torch\n",
        "import pickle\n",
        "import numpy as np\n",
        "from models.mart import MART\n",
        "from types import SimpleNamespace\n",
        "from torch.utils.data import Dataset"
      ]
    },
    {
      "cell_type": "code",
      "execution_count": 33,
      "metadata": {
        "colab": {
          "base_uri": "https://localhost:8080/"
        },
        "id": "UloXQoOTrZqc",
        "outputId": "34c47960-0b66-4492-a0e1-8dd5619f6ae7"
      },
      "outputs": [
        {
          "name": "stdout",
          "output_type": "stream",
          "text": [
            "Sat Jan 11 23:23:07 2025       \n",
            "+---------------------------------------------------------------------------------------+\n",
            "| NVIDIA-SMI 535.104.05             Driver Version: 535.104.05   CUDA Version: 12.2     |\n",
            "|-----------------------------------------+----------------------+----------------------+\n",
            "| GPU  Name                 Persistence-M | Bus-Id        Disp.A | Volatile Uncorr. ECC |\n",
            "| Fan  Temp   Perf          Pwr:Usage/Cap |         Memory-Usage | GPU-Util  Compute M. |\n",
            "|                                         |                      |               MIG M. |\n",
            "|=========================================+======================+======================|\n",
            "|   0  Tesla T4                       Off | 00000000:00:04.0 Off |                    0 |\n",
            "| N/A   34C    P8               9W /  70W |      3MiB / 15360MiB |      0%      Default |\n",
            "|                                         |                      |                  N/A |\n",
            "+-----------------------------------------+----------------------+----------------------+\n",
            "                                                                                         \n",
            "+---------------------------------------------------------------------------------------+\n",
            "| Processes:                                                                            |\n",
            "|  GPU   GI   CI        PID   Type   Process name                            GPU Memory |\n",
            "|        ID   ID                                                             Usage      |\n",
            "|=======================================================================================|\n",
            "|  No running processes found                                                           |\n",
            "+---------------------------------------------------------------------------------------+\n"
          ]
        }
      ],
      "source": [
        "!nvidia-smi\n"
      ]
    },
    {
      "cell_type": "code",
      "execution_count": 34,
      "metadata": {
        "colab": {
          "base_uri": "https://localhost:8080/"
        },
        "id": "WCwSBeGjrZtk",
        "outputId": "f9ad3319-5d40-49c2-c27e-c28cb31ab970"
      },
      "outputs": [
        {
          "name": "stdout",
          "output_type": "stream",
          "text": [
            "Looking in links: https://download.pytorch.org/whl/torch_stable.html\n",
            "Collecting torch==2.1.0+cu118\n",
            "  Downloading https://download.pytorch.org/whl/cu118/torch-2.1.0%2Bcu118-cp310-cp310-linux_x86_64.whl (2325.9 MB)\n",
            "\u001b[2K     \u001b[90m━━━━━━━━━━━━━━━━━━━━━━━━━━━━━━━━━━━━━━━━\u001b[0m \u001b[32m2.3/2.3 GB\u001b[0m \u001b[31m673.6 kB/s\u001b[0m eta \u001b[36m0:00:00\u001b[0m\n",
            "\u001b[?25hCollecting torchvision==0.15.0+cu118\n",
            "  Downloading https://download.pytorch.org/whl/cu118/torchvision-0.15.0%2Bcu118-cp310-cp310-linux_x86_64.whl (6.1 MB)\n",
            "\u001b[2K     \u001b[90m━━━━━━━━━━━━━━━━━━━━━━━━━━━━━━━━━━━━━━━━\u001b[0m \u001b[32m6.1/6.1 MB\u001b[0m \u001b[31m101.5 MB/s\u001b[0m eta \u001b[36m0:00:00\u001b[0m\n",
            "\u001b[?25hCollecting torchaudio==2.1.0+cu118\n",
            "  Downloading https://download.pytorch.org/whl/cu118/torchaudio-2.1.0%2Bcu118-cp310-cp310-linux_x86_64.whl (3.2 MB)\n",
            "\u001b[2K     \u001b[90m━━━━━━━━━━━━━━━━━━━━━━━━━━━━━━━━━━━━━━━━\u001b[0m \u001b[32m3.2/3.2 MB\u001b[0m \u001b[31m83.6 MB/s\u001b[0m eta \u001b[36m0:00:00\u001b[0m\n",
            "\u001b[?25hRequirement already satisfied: filelock in /usr/local/lib/python3.10/dist-packages (from torch==2.1.0+cu118) (3.16.1)\n",
            "Requirement already satisfied: typing-extensions in /usr/local/lib/python3.10/dist-packages (from torch==2.1.0+cu118) (4.12.2)\n",
            "Requirement already satisfied: sympy in /usr/local/lib/python3.10/dist-packages (from torch==2.1.0+cu118) (1.13.1)\n",
            "Requirement already satisfied: networkx in /usr/local/lib/python3.10/dist-packages (from torch==2.1.0+cu118) (3.4.2)\n",
            "Requirement already satisfied: jinja2 in /usr/local/lib/python3.10/dist-packages (from torch==2.1.0+cu118) (3.1.5)\n",
            "Requirement already satisfied: fsspec in /usr/local/lib/python3.10/dist-packages (from torch==2.1.0+cu118) (2024.10.0)\n",
            "Collecting triton==2.1.0 (from torch==2.1.0+cu118)\n",
            "  Downloading triton-2.1.0-0-cp310-cp310-manylinux2014_x86_64.manylinux_2_17_x86_64.whl.metadata (1.3 kB)\n",
            "Requirement already satisfied: numpy in /usr/local/lib/python3.10/dist-packages (from torchvision==0.15.0+cu118) (1.26.4)\n",
            "Requirement already satisfied: requests in /usr/local/lib/python3.10/dist-packages (from torchvision==0.15.0+cu118) (2.32.3)\n",
            "INFO: pip is looking at multiple versions of torchvision to determine which version is compatible with other requirements. This could take a while.\n",
            "\u001b[31mERROR: Cannot install torch==2.1.0+cu118 and torchvision==0.15.0+cu118 because these package versions have conflicting dependencies.\u001b[0m\u001b[31m\n",
            "\u001b[0m\n",
            "The conflict is caused by:\n",
            "    The user requested torch==2.1.0+cu118\n",
            "    torchvision 0.15.0+cu118 depends on torch==2.0.0+cu118\n",
            "\n",
            "To fix this you could try to:\n",
            "1. loosen the range of package versions you've specified\n",
            "2. remove package versions to allow pip to attempt to solve the dependency conflict\n",
            "\n",
            "\u001b[31mERROR: ResolutionImpossible: for help visit https://pip.pypa.io/en/latest/topics/dependency-resolution/#dealing-with-dependency-conflicts\u001b[0m\u001b[31m\n",
            "\u001b[0m"
          ]
        }
      ],
      "source": [
        "# Install the correct version of PyTorch with GPU support\n",
        "!pip install torch==2.1.0+cu118 torchvision==0.15.0+cu118 torchaudio==2.1.0+cu118 -f https://download.pytorch.org/whl/torch_stable.html"
      ]
    },
    {
      "cell_type": "code",
      "execution_count": 35,
      "metadata": {
        "colab": {
          "base_uri": "https://localhost:8080/"
        },
        "id": "y1gaK_3NrZ1s",
        "outputId": "e8ccfa48-b8a3-4668-b174-ed5e03ca5596"
      },
      "outputs": [
        {
          "name": "stdout",
          "output_type": "stream",
          "text": [
            "True\n"
          ]
        }
      ],
      "source": [
        "import torch\n",
        "print(torch.cuda.is_available())"
      ]
    },
    {
      "cell_type": "code",
      "execution_count": 58,
      "metadata": {
        "id": "Br_xJHpZQRdK"
      },
      "outputs": [],
      "source": [
        "def load_config(config_path):\n",
        "    \"\"\"\n",
        "    Load configuration from a YAML file.\n",
        "\n",
        "    Args:\n",
        "        config_path (str): Path to the YAML configuration file.\n",
        "\n",
        "    Returns:\n",
        "        dict: Loaded configuration dictionary.\n",
        "    \"\"\"\n",
        "    print(f\"[INFO] Loading configuration from {config_path}...\")\n",
        "    with open(config_path, 'r') as file:\n",
        "        config = yaml.safe_load(file)\n",
        "    print(\"[INFO] Configuration loaded successfully!\")\n",
        "    return config\n"
      ]
    },
    {
      "cell_type": "code",
      "execution_count": 59,
      "metadata": {
        "id": "sxPMfQnFOZGt"
      },
      "outputs": [],
      "source": [
        "CHECKPOINT_PATH = \"files/sdd_ckpt_best.pth\"  # Update this\n",
        "TEST_DATA_PATH = \"files/sdd_test.pkl\"  # Update this\n",
        "CONFIG_PATH = \"files/mart_sdd_reproduce.yaml\"  # Update this\n",
        "BATCH_SIZE = 64"
      ]
    },
    {
      "cell_type": "code",
      "execution_count": 65,
      "metadata": {
        "id": "-5qkGgs0OcFi"
      },
      "outputs": [],
      "source": [
        "def load_model(checkpoint_path, opts):\n",
        "    print(\"[INFO] Loading model from checkpoint...\")\n",
        "    args = SimpleNamespace(**opts)\n",
        "    model = MART(args)  # Remove .cuda()\n",
        "    checkpoint = torch.load(checkpoint_path, map_location='cpu', weights_only=True)\n",
        "\n",
        "\n",
        "    model.load_state_dict(checkpoint['state_dict'])  # or whatever loading method you are using\n",
        "\n",
        "    print(\"[INFO] Model loaded successfully!\")\n",
        "    return model\n"
      ]
    },
    {
      "cell_type": "code",
      "execution_count": 61,
      "metadata": {
        "id": "hA8PRR6LOf6g"
      },
      "outputs": [],
      "source": [
        "def evaluate_model(model, test_loader, opts):\n",
        "    print(\"[INFO] Starting evaluation...\")\n",
        "    ade_sum, fde_sum, total_agents = 0.0, 0.0, 0\n",
        "\n",
        "    # Set the device to GPU or CPU\n",
        "    device = torch.device(\"cuda\" if torch.cuda.is_available() else \"cpu\")\n",
        "    model.to(device)  # Move model to device\n",
        "\n",
        "    with torch.no_grad():\n",
        "        for sample in test_loader:\n",
        "            x_abs, y = sample\n",
        "            x_abs, y = x_abs.to(device), y.to(device)  # Move tensors to device\n",
        "\n",
        "            batch_size, num_agents, length, _ = x_abs.size()\n",
        "\n",
        "            x_rel = torch.zeros_like(x_abs).to(device)  # Ensure x_rel is on the same device\n",
        "            x_rel[:, :, 1:] = x_abs[:, :, 1:] - x_abs[:, :, :-1]\n",
        "            x_rel[:, :, 0] = x_rel[:, :, 1]\n",
        "\n",
        "            y_pred = model(x_abs, x_rel)\n",
        "\n",
        "            if opts[\"pred_rel\"]:\n",
        "                cur_pos = x_abs[:, :, [-1]].unsqueeze(2)\n",
        "                y_pred = torch.cumsum(y_pred, dim=3) + cur_pos\n",
        "\n",
        "            ade = torch.min(torch.mean(torch.norm(y_pred - y[:, :, None], dim=-1), dim=3), dim=2)[0].mean().item()\n",
        "            fde = torch.min(torch.mean(torch.norm(y_pred[:, :, :, -1:] - y[:, :, None, -1:], dim=-1), dim=3), dim=2)[0].mean().item()\n",
        "\n",
        "            ade_sum += ade * num_agents * batch_size\n",
        "            fde_sum += fde * num_agents * batch_size\n",
        "            total_agents += num_agents * batch_size\n",
        "\n",
        "    ade_avg = (ade_sum / total_agents) * opts[\"scale\"]\n",
        "    fde_avg = (fde_sum / total_agents) * opts[\"scale\"]\n",
        "\n",
        "    print(f\"[INFO] Evaluation Results: ADE = {ade_avg:.4f}, FDE = {fde_avg:.4f}\")\n",
        "    return ade_avg, fde_avg\n"
      ]
    },
    {
      "cell_type": "code",
      "execution_count": 62,
      "metadata": {
        "id": "gFU-woSrfBKJ"
      },
      "outputs": [],
      "source": [
        "import torch\n",
        "import numpy as np\n",
        "\n",
        "class TrajectoryDataset(Dataset):\n",
        "    def __init__(\n",
        "        self, obs_len=8, pred_len=12, mode='train', scale=10, inputs=None, max_agents=50\n",
        "    ):\n",
        "        super(TrajectoryDataset, self).__init__()\n",
        "\n",
        "        self.obs_len = obs_len\n",
        "        self.pred_len = pred_len\n",
        "        self.seq_len = self.obs_len + self.pred_len\n",
        "        self.scale = scale\n",
        "        self.max_agents = max_agents\n",
        "\n",
        "        with open('files/sdd_test.pkl'.format(mode), 'rb') as f:\n",
        "            traj = pickle.load(f)\n",
        "\n",
        "        traj_tmp = []\n",
        "\n",
        "        for t in traj:\n",
        "            traj_tmp.append(t)\n",
        "            if mode == 'train':\n",
        "                traj_tmp.append(np.flip(t, axis=1))\n",
        "\n",
        "        self.traj = []\n",
        "        if 'pos_x' in inputs and 'pos_y' in inputs:\n",
        "            for t in traj_tmp:\n",
        "                t -= t[:, :1, :]\n",
        "                self.traj.append(t)\n",
        "        else:\n",
        "            self.traj = traj_tmp\n",
        "\n",
        "\n",
        "    def __len__(self):\n",
        "        return len(self.traj)\n",
        "\n",
        "    def __getitem__(self, index):\n",
        "        past_traj = self.traj[index][:, :self.obs_len] * self.scale\n",
        "        future_traj = self.traj[index][:, self.obs_len:] * self.scale\n",
        "\n",
        "        # Padding the number of agents to max_agents if necessary\n",
        "        num_agents = past_traj.shape[0]\n",
        "        if num_agents < self.max_agents:\n",
        "            pad_size = self.max_agents - num_agents\n",
        "            past_traj_padded = np.pad(past_traj, ((0, pad_size), (0, 0), (0, 0)), mode='constant')\n",
        "            future_traj_padded = np.pad(future_traj, ((0, pad_size), (0, 0), (0, 0)), mode='constant')\n",
        "        else:\n",
        "            past_traj_padded = past_traj\n",
        "            future_traj_padded = future_traj\n",
        "\n",
        "        past_traj = torch.from_numpy(past_traj_padded).type(torch.float)\n",
        "        future_traj = torch.from_numpy(future_traj_padded).type(torch.float)\n",
        "\n",
        "        return [past_traj, future_traj]\n"
      ]
    },
    {
      "cell_type": "code",
      "execution_count": 67,
      "metadata": {
        "colab": {
          "base_uri": "https://localhost:8080/"
        },
        "id": "b6LvJHV2Oavo",
        "outputId": "88602d85-2528-4b4c-f4a3-b5faa1195df9"
      },
      "outputs": [
        {
          "name": "stdout",
          "output_type": "stream",
          "text": [
            "[INFO] Loading configuration from files/mart_sdd_reproduce.yaml...\n",
            "[INFO] Configuration loaded successfully!\n",
            "[INFO] Loading model from checkpoint...\n",
            "[INFO] PRT Agg: cat\n",
            "[INFO] HRT Agg: avg\n",
            "[INFO] Binary Threshold Function Type: 2\n",
            "[INFO] Model loaded successfully!\n",
            "[INFO] Starting evaluation with test data...\n",
            "[INFO] Starting evaluation...\n",
            "[INFO] Evaluation Results: ADE = 0.7596, FDE = 1.2068\n"
          ]
        }
      ],
      "source": [
        "from torch.utils.data import DataLoader\n",
        "if __name__ == \"__main__\":\n",
        "    opts = load_config(CONFIG_PATH)\n",
        "    model = load_model(CHECKPOINT_PATH, opts)\n",
        "\n",
        "    # Prepare the test dataset and DataLoader\n",
        "    test_dataset = TrajectoryDataset(\n",
        "        obs_len=opts[\"past_length\"],\n",
        "        pred_len=opts[\"future_length\"],\n",
        "        mode=\"test\",  # This loads the test set\n",
        "        scale=opts[\"scale\"],\n",
        "        inputs=opts[\"inputs\"]\n",
        "    )\n",
        "    test_loader = DataLoader(test_dataset, batch_size=BATCH_SIZE, shuffle=False, num_workers=4)\n",
        "\n",
        "    print(\"[INFO] Starting evaluation with test data...\")\n",
        "    evaluate_model(model, test_loader, opts)"
      ]
    },
    {
      "cell_type": "code",
      "execution_count": null,
      "metadata": {
        "id": "AeWsc5AAtCh0"
      },
      "outputs": [],
      "source": []
    }
  ],
  "metadata": {
    "accelerator": "GPU",
    "colab": {
      "gpuType": "T4",
      "provenance": []
    },
    "kernelspec": {
      "display_name": "Python 3",
      "name": "python3"
    },
    "language_info": {
      "name": "python"
    }
  },
  "nbformat": 4,
  "nbformat_minor": 0
}
